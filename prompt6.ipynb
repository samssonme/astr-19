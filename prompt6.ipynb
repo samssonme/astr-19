{
 "cells": [
  {
   "cell_type": "code",
   "execution_count": 32,
   "id": "d0d598af-b66f-4450-9ee7-6aa71f9547c1",
   "metadata": {},
   "outputs": [],
   "source": [
    "import numpy as np \n",
    "def sine(x):        #define a function of sine(x) to return sin(x)\n",
    "    return np.sin(x)\n"
   ]
  },
  {
   "cell_type": "code",
   "execution_count": 33,
   "id": "c869a80c-95b5-4803-9987-c937adf76b07",
   "metadata": {},
   "outputs": [],
   "source": [
    "def cosine(x):      #define a function of cosine(x) to return sin(x)\n",
    "    return np.cos(x)"
   ]
  },
  {
   "cell_type": "code",
   "execution_count": 34,
   "id": "e16e89d6-6721-4efb-812a-20d227b53700",
   "metadata": {},
   "outputs": [],
   "source": [
    "\n",
    "x_val=np.linspace(0,2*np.pi,1000) # creating an array of x values between 0 and 2pi with 1000 entries \n",
    "sin_val=[sine(x) for x in x_val] # calculate sin() for the values of x \n",
    "cos_val=[cosine(x) for x in x_val] # calculate cos() for the values of x \n"
   ]
  },
  {
   "cell_type": "code",
   "execution_count": 36,
   "id": "7a5be459-4c3f-46ea-9d80-aa65efcc0517",
   "metadata": {},
   "outputs": [
    {
     "name": "stdout",
     "output_type": "stream",
     "text": [
      "x     sin(x)     cos(x)\n",
      "------------------------\n",
      "0.00 0.000000 1.000000\n",
      "0.01 0.006289 0.999980\n",
      "0.01 0.012579 0.999921\n",
      "0.02 0.018867 0.999822\n",
      "0.03 0.025155 0.999684\n",
      "0.03 0.031442 0.999506\n",
      "0.04 0.037728 0.999288\n",
      "0.04 0.044012 0.999031\n",
      "0.05 0.050295 0.998734\n",
      "0.06 0.056575 0.998398\n"
     ]
    }
   ],
   "source": [
    "print(\"x     sin(x)     cos(x)\")  #prints x, sin(x) and cos(x) in one line\n",
    "print(\"-\" *24)  #and the header line\n",
    "for i in range (10): # Iterate through the first 10 values of x,sin x and cosx\n",
    "    x=x_val[i]\n",
    "    sinx=sin_val[i]\n",
    "    cosx=cos_val[i]\n",
    "    print(f\"{x:.2f} {sinx:.6f} {cosx:.6f}\") # prints the values in columen\n"
   ]
  },
  {
   "cell_type": "code",
   "execution_count": null,
   "id": "ca729293-4cc9-4e05-a7e2-4c35a588338f",
   "metadata": {},
   "outputs": [],
   "source": []
  },
  {
   "cell_type": "code",
   "execution_count": null,
   "id": "5a6b65b0-b10c-4795-8993-858ff4ea78ad",
   "metadata": {},
   "outputs": [],
   "source": []
  },
  {
   "cell_type": "code",
   "execution_count": null,
   "id": "58fe4786-b7d6-451b-9abd-88803ec85a69",
   "metadata": {},
   "outputs": [],
   "source": []
  },
  {
   "cell_type": "code",
   "execution_count": null,
   "id": "7db4d7a4-121d-4b00-a622-582175b99133",
   "metadata": {},
   "outputs": [],
   "source": []
  },
  {
   "cell_type": "code",
   "execution_count": null,
   "id": "62e7d996-d26a-44c6-8830-d95279176154",
   "metadata": {},
   "outputs": [],
   "source": []
  }
 ],
 "metadata": {
  "kernelspec": {
   "display_name": "Python 3 (ipykernel)",
   "language": "python",
   "name": "python3"
  },
  "language_info": {
   "codemirror_mode": {
    "name": "ipython",
    "version": 3
   },
   "file_extension": ".py",
   "mimetype": "text/x-python",
   "name": "python",
   "nbconvert_exporter": "python",
   "pygments_lexer": "ipython3",
   "version": "3.12.0"
  }
 },
 "nbformat": 4,
 "nbformat_minor": 5
}
